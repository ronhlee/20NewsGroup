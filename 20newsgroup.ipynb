{
 "cells": [
  {
   "cell_type": "markdown",
   "metadata": {},
   "source": [
    "# 20 News Group - Text Classification "
   ]
  },
  {
   "cell_type": "code",
   "execution_count": 1,
   "metadata": {},
   "outputs": [],
   "source": [
    "from fastai import *\n",
    "from fastai.text import * "
   ]
  },
  {
   "cell_type": "code",
   "execution_count": 2,
   "metadata": {},
   "outputs": [
    {
     "name": "stderr",
     "output_type": "stream",
     "text": [
      "Downloading 20news dataset. This may take a few minutes.\n",
      "Downloading dataset from https://ndownloader.figshare.com/files/5975967 (14 MB)\n"
     ]
    }
   ],
   "source": [
    "from sklearn.datasets import fetch_20newsgroups\n",
    "dataset = fetch_20newsgroups(shuffle=True, random_state=1, remove=('headers', 'footers', 'quotes'))\n",
    "documents = dataset.data"
   ]
  },
  {
   "cell_type": "code",
   "execution_count": 15,
   "metadata": {},
   "outputs": [
    {
     "data": {
      "text/plain": [
       "(11314, 2)"
      ]
     },
     "execution_count": 15,
     "metadata": {},
     "output_type": "execute_result"
    }
   ],
   "source": [
    "df = pd.DataFrame({'label':dataset.target, 'text':dataset.data})\n",
    "df.shape"
   ]
  },
  {
   "cell_type": "code",
   "execution_count": 16,
   "metadata": {},
   "outputs": [
    {
     "data": {
      "text/html": [
       "<div>\n",
       "<style scoped>\n",
       "    .dataframe tbody tr th:only-of-type {\n",
       "        vertical-align: middle;\n",
       "    }\n",
       "\n",
       "    .dataframe tbody tr th {\n",
       "        vertical-align: top;\n",
       "    }\n",
       "\n",
       "    .dataframe thead th {\n",
       "        text-align: right;\n",
       "    }\n",
       "</style>\n",
       "<table border=\"1\" class=\"dataframe\">\n",
       "  <thead>\n",
       "    <tr style=\"text-align: right;\">\n",
       "      <th></th>\n",
       "      <th>label</th>\n",
       "      <th>text</th>\n",
       "    </tr>\n",
       "  </thead>\n",
       "  <tbody>\n",
       "    <tr>\n",
       "      <th>0</th>\n",
       "      <td>17</td>\n",
       "      <td>Well i'm not sure about the story nad it did s...</td>\n",
       "    </tr>\n",
       "    <tr>\n",
       "      <th>1</th>\n",
       "      <td>0</td>\n",
       "      <td>\\n\\n\\n\\n\\n\\n\\nYeah, do you expect people to re...</td>\n",
       "    </tr>\n",
       "    <tr>\n",
       "      <th>2</th>\n",
       "      <td>17</td>\n",
       "      <td>Although I realize that principle is not one o...</td>\n",
       "    </tr>\n",
       "    <tr>\n",
       "      <th>3</th>\n",
       "      <td>11</td>\n",
       "      <td>Notwithstanding all the legitimate fuss about ...</td>\n",
       "    </tr>\n",
       "    <tr>\n",
       "      <th>4</th>\n",
       "      <td>10</td>\n",
       "      <td>Well, I will have to change the scoring on my ...</td>\n",
       "    </tr>\n",
       "  </tbody>\n",
       "</table>\n",
       "</div>"
      ],
      "text/plain": [
       "   label                                               text\n",
       "0     17  Well i'm not sure about the story nad it did s...\n",
       "1      0  \\n\\n\\n\\n\\n\\n\\nYeah, do you expect people to re...\n",
       "2     17  Although I realize that principle is not one o...\n",
       "3     11  Notwithstanding all the legitimate fuss about ...\n",
       "4     10  Well, I will have to change the scoring on my ..."
      ]
     },
     "execution_count": 16,
     "metadata": {},
     "output_type": "execute_result"
    }
   ],
   "source": [
    "df.head()"
   ]
  },
  {
   "cell_type": "code",
   "execution_count": 17,
   "metadata": {},
   "outputs": [
    {
     "data": {
      "text/plain": [
       "10    600\n",
       "15    599\n",
       "8     598\n",
       "9     597\n",
       "11    595\n",
       "13    594\n",
       "7     594\n",
       "14    593\n",
       "5     593\n",
       "12    591\n",
       "2     591\n",
       "3     590\n",
       "6     585\n",
       "1     584\n",
       "4     578\n",
       "17    564\n",
       "16    546\n",
       "0     480\n",
       "18    465\n",
       "19    377\n",
       "Name: label, dtype: int64"
      ]
     },
     "execution_count": 17,
     "metadata": {},
     "output_type": "execute_result"
    }
   ],
   "source": [
    "df['label'].value_counts()"
   ]
  },
  {
   "cell_type": "markdown",
   "metadata": {},
   "source": [
    "We’ll convert this into a binary classification problem by selecting only 2 out of the 20 labels present in the dataset. We will select labels 1 and 10 which correspond to ‘comp.graphics’ and ‘rec.sport.hockey’, respectively."
   ]
  },
  {
   "cell_type": "code",
   "execution_count": 18,
   "metadata": {},
   "outputs": [],
   "source": [
    "df = df[df['label'].isin([1,10])]\n",
    "df = df.reset_index(drop = True)"
   ]
  },
  {
   "cell_type": "code",
   "execution_count": 19,
   "metadata": {},
   "outputs": [
    {
     "data": {
      "text/html": [
       "<div>\n",
       "<style scoped>\n",
       "    .dataframe tbody tr th:only-of-type {\n",
       "        vertical-align: middle;\n",
       "    }\n",
       "\n",
       "    .dataframe tbody tr th {\n",
       "        vertical-align: top;\n",
       "    }\n",
       "\n",
       "    .dataframe thead th {\n",
       "        text-align: right;\n",
       "    }\n",
       "</style>\n",
       "<table border=\"1\" class=\"dataframe\">\n",
       "  <thead>\n",
       "    <tr style=\"text-align: right;\">\n",
       "      <th></th>\n",
       "      <th>label</th>\n",
       "      <th>text</th>\n",
       "    </tr>\n",
       "  </thead>\n",
       "  <tbody>\n",
       "    <tr>\n",
       "      <th>0</th>\n",
       "      <td>10</td>\n",
       "      <td>Well, I will have to change the scoring on my ...</td>\n",
       "    </tr>\n",
       "    <tr>\n",
       "      <th>1</th>\n",
       "      <td>1</td>\n",
       "      <td>Archive-name: graphics/resources-list/part1\\nL...</td>\n",
       "    </tr>\n",
       "    <tr>\n",
       "      <th>2</th>\n",
       "      <td>10</td>\n",
       "      <td>\\nAnd of course, Mike Ramsey was (at one time)...</td>\n",
       "    </tr>\n",
       "    <tr>\n",
       "      <th>3</th>\n",
       "      <td>10</td>\n",
       "      <td>As I promised, I would give you the name of th...</td>\n",
       "    </tr>\n",
       "    <tr>\n",
       "      <th>4</th>\n",
       "      <td>10</td>\n",
       "      <td>GAME(S) OF 4/15\\n---------------\\nADIRONDACK 6...</td>\n",
       "    </tr>\n",
       "  </tbody>\n",
       "</table>\n",
       "</div>"
      ],
      "text/plain": [
       "   label                                               text\n",
       "0     10  Well, I will have to change the scoring on my ...\n",
       "1      1  Archive-name: graphics/resources-list/part1\\nL...\n",
       "2     10  \\nAnd of course, Mike Ramsey was (at one time)...\n",
       "3     10  As I promised, I would give you the name of th...\n",
       "4     10  GAME(S) OF 4/15\\n---------------\\nADIRONDACK 6..."
      ]
     },
     "execution_count": 19,
     "metadata": {},
     "output_type": "execute_result"
    }
   ],
   "source": [
    "df.head()"
   ]
  },
  {
   "cell_type": "code",
   "execution_count": 20,
   "metadata": {},
   "outputs": [
    {
     "data": {
      "text/plain": [
       "10    600\n",
       "1     584\n",
       "Name: label, dtype: int64"
      ]
     },
     "execution_count": 20,
     "metadata": {},
     "output_type": "execute_result"
    }
   ],
   "source": [
    "df['label'].value_counts()"
   ]
  },
  {
   "cell_type": "code",
   "execution_count": 22,
   "metadata": {},
   "outputs": [
    {
     "data": {
      "text/plain": [
       "\"GAME(S) OF 4/15\\n---------------\\nADIRONDACK 6\\tCDI 2\\t(Adirondack leads series, 1-0)\\n\\n=================================================\\t\\t\\t\\nFIRST ROUND\\t\\t\\t\\t\\t\\nSpringfield Indians vs Providence Bruins\\nGm 1:\\tSpringfield 3\\tPROVIDENCE 2\\t\\nGm 2:\\tSpringfield 5\\tPROVIDENCE 4\\nGm 3:\\t4/16\\tProvidence at Springfield\\nGm 4:\\t4/17\\tProvidence at Springfield\\nGm 5:\\t4/22\\tSpringfield at Providence\\t*\\nGm 6:\\t4/24\\tProvidence at Springfield\\t*\\nGm 7:\\t4/27\\tSpringfield at Providence\\t*\\n\\nCD Islanders vs Adirondack Red Wings\\nGm 1:\\tADIRONDACK 6\\tCDI 2\\nGm 2:\\t4/17\\tCDI at Adirondack\\nGm 3:\\t4/18\\tAdirondack at CDI\\nGm 4:\\t4/21\\tAdirondack at CDI\\nGm 5:\\t4/23\\tCDI at Adirondack\\t*\\nGm 6:\\t4/24\\tAdirondack at CDI\\t*\\nGm 7:\\t4/26\\tCDI at Adirondack\\t*\\n\\nBaltimore Skipjacks at Binghamton Rangers\\nGm 1:\\t4/16\\tBaltimore at Binghamton\\nGm 2:\\t4/17\\tBaltimore at Binghamton\\nGm 3:\\t4/23\\tBinghamton at Baltimore\\nGm 4:\\t4/24\\tBinghamton at Baltimore\\nGm 5:\\t4/26\\tBaltimore at Binghamton\\t*\\nGm 6:\\t4/28\\tBinghmaton at Baltimore\\t*\\nGm 7:\\t4/30\\tBaltimore at Binghamton\\t*\\n\\nUtica Devils vs Rochester Americans\\nGm 1:\\t4/16\\tUtica at Rochester\\nGm 2:\\t4/17\\tUtica at Rochester\\nGm 3:\\t4/20\\tRochester at Utica\\nGm 4:\\t4/22\\tRochester at Utica\\nGm 5:\\t4/24\\tUtica at Rochester\\t*\\nGm 6:\\t4/26\\tRochester at Utica\\t*\\nGm 7:\\t4/28\\tUtica at Rochester\\t*\\n\\nMoncton Hawks vs St John's Maple Leafs\\nGm 1:\\tSt John's 4\\tMoncton 2\\nGm 2:\\t4/17\\tMoncton vs St John's at Halifax\\nGm 3:\\t4/21\\tSt John's at Moncton\\nGm 4:\\t4/23\\tSt John's at Moncton\\nGm 5:\\t4/26\\tMoncton vs St John's at Halifax\\t*\\nGm 6:\\t4/28\\tSt John's at Moncton\\t\\t*\\nGm 7:\\t4/30\\tMoncton vs St John's at Halifax\\t*\\n\\nCape Breton Oilers vs Fredericton Canadiens\\nGm 1:\\tFredericton 4\\tCape Breton 3\\t(2OT)\\nGm 2:\\t4/16\\tCape Breton at Fredericton\\t\\nGm 3:\\t4/20\\tFredericton at Cape Breton\\nGm 4:\\t4/22\\tFredericton at Cape Breton\\nGm 5:\\t4/24\\tCape Breton at Fredericton\\t*\\nGm 6:\\t4/26\\tFredericton at Cape Breton\\t*\\nGm 7:\\t4/28\\tCape Breton at Fredericton\\t*\""
      ]
     },
     "execution_count": 22,
     "metadata": {},
     "output_type": "execute_result"
    }
   ],
   "source": [
    "df['text'][4]"
   ]
  },
  {
   "cell_type": "markdown",
   "metadata": {},
   "source": [
    "## Pre-processing"
   ]
  },
  {
   "cell_type": "markdown",
   "metadata": {},
   "source": [
    " It’s always a good practice to feed clean data to your models, especially when the data comes in the form of unstructured text. Let’s clean our text by retaining only alphabets and removing everything else."
   ]
  },
  {
   "cell_type": "code",
   "execution_count": 23,
   "metadata": {},
   "outputs": [],
   "source": [
    "df['text'] = df['text'].str.replace(\"[^a-zA-Z]\", \" \")   # replace non-alphabets with empty string"
   ]
  },
  {
   "cell_type": "code",
   "execution_count": 24,
   "metadata": {},
   "outputs": [],
   "source": [
    "# import nltk\n",
    "# nltk.download('stopwords')\n",
    "from nltk.corpus import stopwords \n",
    "stop_words = stopwords.words('english')"
   ]
  },
  {
   "cell_type": "code",
   "execution_count": 25,
   "metadata": {},
   "outputs": [],
   "source": [
    "# tokenization \n",
    "tokenized_doc = df['text'].apply(lambda x: x.split())\n",
    "\n",
    "# remove stop-words \n",
    "tokenized_doc = tokenized_doc.apply(lambda x: [item for item in x if item not in stop_words])\n",
    "\n",
    "# de-tokenization \n",
    "detokenized_doc = [] \n",
    "for i in range(len(df)): \n",
    "    t = ' '.join(tokenized_doc[i]) \n",
    "    detokenized_doc.append(t) \n",
    "\n",
    "df['text'] = detokenized_doc"
   ]
  },
  {
   "cell_type": "code",
   "execution_count": 26,
   "metadata": {},
   "outputs": [
    {
     "data": {
      "text/plain": [
       "'GAME S OF ADIRONDACK CDI Adirondack leads series FIRST ROUND Springfield Indians vs Providence Bruins Gm Springfield PROVIDENCE Gm Springfield PROVIDENCE Gm Providence Springfield Gm Providence Springfield Gm Springfield Providence Gm Providence Springfield Gm Springfield Providence CD Islanders vs Adirondack Red Wings Gm ADIRONDACK CDI Gm CDI Adirondack Gm Adirondack CDI Gm Adirondack CDI Gm CDI Adirondack Gm Adirondack CDI Gm CDI Adirondack Baltimore Skipjacks Binghamton Rangers Gm Baltimore Binghamton Gm Baltimore Binghamton Gm Binghamton Baltimore Gm Binghamton Baltimore Gm Baltimore Binghamton Gm Binghmaton Baltimore Gm Baltimore Binghamton Utica Devils vs Rochester Americans Gm Utica Rochester Gm Utica Rochester Gm Rochester Utica Gm Rochester Utica Gm Utica Rochester Gm Rochester Utica Gm Utica Rochester Moncton Hawks vs St John Maple Leafs Gm St John Moncton Gm Moncton vs St John Halifax Gm St John Moncton Gm St John Moncton Gm Moncton vs St John Halifax Gm St John Moncton Gm Moncton vs St John Halifax Cape Breton Oilers vs Fredericton Canadiens Gm Fredericton Cape Breton OT Gm Cape Breton Fredericton Gm Fredericton Cape Breton Gm Fredericton Cape Breton Gm Cape Breton Fredericton Gm Fredericton Cape Breton Gm Cape Breton Fredericton'"
      ]
     },
     "execution_count": 26,
     "metadata": {},
     "output_type": "execute_result"
    }
   ],
   "source": [
    "df['text'][4]"
   ]
  },
  {
   "cell_type": "markdown",
   "metadata": {},
   "source": [
    "Now let’s split our cleaned dataset into training and validation sets"
   ]
  },
  {
   "cell_type": "code",
   "execution_count": 27,
   "metadata": {},
   "outputs": [
    {
     "data": {
      "text/plain": [
       "((710, 2), (474, 2))"
      ]
     },
     "execution_count": 27,
     "metadata": {},
     "output_type": "execute_result"
    }
   ],
   "source": [
    "from sklearn.model_selection import train_test_split\n",
    "\n",
    "# split data into training and validation set\n",
    "df_trn, df_val = train_test_split(df, stratify = df['label'], test_size = 0.4, random_state = 12)\n",
    "df_trn.shape, df_val.shape"
   ]
  },
  {
   "cell_type": "markdown",
   "metadata": {},
   "source": [
    "### Fastai DataBunch"
   ]
  },
  {
   "cell_type": "code",
   "execution_count": 31,
   "metadata": {},
   "outputs": [],
   "source": [
    "# language model data using Fastai library\n",
    "data_lm = TextLMDataBunch.from_df(train_df = df_trn, valid_df = df_val, path = \"\")"
   ]
  },
  {
   "cell_type": "markdown",
   "metadata": {},
   "source": [
    "## Training"
   ]
  },
  {
   "cell_type": "markdown",
   "metadata": {},
   "source": [
    "### Fine-Tune the Pre-Trained Language Model"
   ]
  },
  {
   "cell_type": "code",
   "execution_count": 29,
   "metadata": {},
   "outputs": [],
   "source": [
    "learn = language_model_learner(data_lm, pretrained_model=URLs.WT103, drop_mult=0.7)"
   ]
  },
  {
   "cell_type": "code",
   "execution_count": 32,
   "metadata": {},
   "outputs": [
    {
     "name": "stdout",
     "output_type": "stream",
     "text": [
      "LR Finder is complete, type {learner_name}.recorder.plot() to see the graph.\n"
     ]
    }
   ],
   "source": [
    "learn.lr_find()"
   ]
  },
  {
   "cell_type": "code",
   "execution_count": 35,
   "metadata": {},
   "outputs": [
    {
     "data": {
      "image/png": "[encoded data removed]",
      "text/plain": [
       "<Figure size 432x288 with 1 Axes>"
      ]
     },
     "metadata": {
      "needs_background": "light"
     },
     "output_type": "display_data"
    }
   ],
   "source": [
    "learn.recorder.plot(skip_end=9)"
   ]
  },
  {
   "cell_type": "code",
   "execution_count": 36,
   "metadata": {},
   "outputs": [
    {
     "name": "stdout",
     "output_type": "stream",
     "text": [
      "Total time: 00:02\n",
      "epoch  train_loss  valid_loss  accuracy\n",
      "1      7.069874    6.091651    0.174120  (00:02)\n",
      "\n"
     ]
    }
   ],
   "source": [
    "# train the learner object with learning rate = 4e-2\n",
    "learn.fit_one_cycle(1, 4e-2)"
   ]
  },
  {
   "cell_type": "code",
   "execution_count": 37,
   "metadata": {},
   "outputs": [],
   "source": [
    "learn.save_encoder('ft_enc')"
   ]
  },
  {
   "cell_type": "markdown",
   "metadata": {},
   "source": [
    "Use the data_clas object to build a classifier with our fine-tuned encoder"
   ]
  },
  {
   "cell_type": "code",
   "execution_count": 38,
   "metadata": {},
   "outputs": [],
   "source": [
    "bs = 32   # do small batchsize since the dataset is small"
   ]
  },
  {
   "cell_type": "code",
   "execution_count": 39,
   "metadata": {},
   "outputs": [],
   "source": [
    "# Classifier model data\n",
    "data_clas = TextClasDataBunch.from_df(path = \"\", train_df = df_trn, valid_df = df_val, vocab=data_lm.train_ds.vocab, bs=bs)"
   ]
  },
  {
   "cell_type": "code",
   "execution_count": 50,
   "metadata": {},
   "outputs": [],
   "source": [
    "learn = text_classifier_learner(data_clas, drop_mult=0.7)\n",
    "learn.load_encoder('ft_enc')\n",
    "learn.freeze()"
   ]
  },
  {
   "cell_type": "code",
   "execution_count": 51,
   "metadata": {},
   "outputs": [
    {
     "name": "stdout",
     "output_type": "stream",
     "text": [
      "LR Finder is complete, type {learner_name}.recorder.plot() to see the graph.\n"
     ]
    },
    {
     "data": {
      "image/png": "[encoded data removed]",
      "text/plain": [
       "<Figure size 432x288 with 1 Axes>"
      ]
     },
     "metadata": {
      "needs_background": "light"
     },
     "output_type": "display_data"
    }
   ],
   "source": [
    "learn.lr_find()\n",
    "learn.recorder.plot()"
   ]
  },
  {
   "cell_type": "markdown",
   "metadata": {},
   "source": [
    "### This is just for comparison \n",
    "learn.fit_one_cycle(12, 1e-2)\n",
    "\n",
    "epoch  train_loss  valid_loss  accuracy\n",
    "\n",
    "1      0.512444    0.212690    0.949367  (00:08)\n",
    "\n",
    "2      0.469201    0.221738    0.915612  (00:08)\n",
    "\n",
    "3      0.453225    0.270365    0.934599  (00:08)\n",
    "\n",
    "4      0.448653    0.231459    0.936709  (00:08)\n",
    "\n",
    "5      0.440426    0.287306    0.932489  (00:08)\n",
    "\n",
    "6      0.440595    0.303788    0.860759  (00:08)\n",
    "\n",
    "7      0.460635    0.264652    0.934599  (00:08)\n",
    "\n",
    "8      0.474176    0.236547    0.913502  (00:08)\n",
    "\n",
    "9      0.424343    0.215563    0.938819  (00:08)\n",
    "\n",
    "10     0.400122    0.188165    0.938819  (00:08)\n",
    "\n",
    "11     0.407927    0.171899    0.943038  (00:08)\n",
    "\n",
    "12     0.393046    0.186563    0.940928  (00:08)"
   ]
  },
  {
   "cell_type": "code",
   "execution_count": 52,
   "metadata": {},
   "outputs": [
    {
     "name": "stdout",
     "output_type": "stream",
     "text": [
      "Total time: 00:08\n",
      "epoch  train_loss  valid_loss  accuracy\n",
      "1      0.503915    0.255568    0.898734  (00:08)\n",
      "\n"
     ]
    }
   ],
   "source": [
    "learn.fit_one_cycle(1, 1e-2)  # default momentums "
   ]
  },
  {
   "cell_type": "code",
   "execution_count": 53,
   "metadata": {},
   "outputs": [
    {
     "name": "stdout",
     "output_type": "stream",
     "text": [
      "Total time: 00:08\n",
      "epoch  train_loss  valid_loss  accuracy\n",
      "1      0.430327    0.330402    0.890295  (00:08)\n",
      "\n"
     ]
    }
   ],
   "source": [
    "learn.freeze_to(-2)  # unfreeze up to the second to the last layer\n",
    "learn.fit_one_cycle(1, slice(1e-2/(2.6**4),1e-2))"
   ]
  },
  {
   "cell_type": "code",
   "execution_count": 54,
   "metadata": {},
   "outputs": [
    {
     "name": "stdout",
     "output_type": "stream",
     "text": [
      "Total time: 00:09\n",
      "epoch  train_loss  valid_loss  accuracy\n",
      "1      0.387316    0.165587    0.949367  (00:09)\n",
      "\n"
     ]
    }
   ],
   "source": [
    "learn.freeze_to(-3)  # unfreeze up to the third to the last layer\n",
    "learn.fit_one_cycle(1, slice(5e-3/(2.6**4),5e-3))"
   ]
  },
  {
   "cell_type": "code",
   "execution_count": 55,
   "metadata": {},
   "outputs": [
    {
     "name": "stdout",
     "output_type": "stream",
     "text": [
      "Total time: 00:22\n",
      "epoch  train_loss  valid_loss  accuracy\n",
      "1      0.438170    0.183383    0.949367  (00:11)\n",
      "2      0.407369    0.181277    0.949367  (00:11)\n",
      "\n"
     ]
    }
   ],
   "source": [
    "learn.unfreeze()  # unfreeze all layers\n",
    "learn.fit_one_cycle(2, slice(1e-3/(2.6**4),1e-3))"
   ]
  },
  {
   "cell_type": "code",
   "execution_count": 57,
   "metadata": {},
   "outputs": [],
   "source": [
    "learn.save('final')"
   ]
  },
  {
   "cell_type": "markdown",
   "metadata": {},
   "source": [
    "get the predictions for the validation set out of the learner object"
   ]
  },
  {
   "cell_type": "code",
   "execution_count": 56,
   "metadata": {},
   "outputs": [
    {
     "data": {
      "text/html": [
       "<div>\n",
       "<style scoped>\n",
       "    .dataframe tbody tr th:only-of-type {\n",
       "        vertical-align: middle;\n",
       "    }\n",
       "\n",
       "    .dataframe tbody tr th {\n",
       "        vertical-align: top;\n",
       "    }\n",
       "\n",
       "    .dataframe thead th {\n",
       "        text-align: right;\n",
       "    }\n",
       "</style>\n",
       "<table border=\"1\" class=\"dataframe\">\n",
       "  <thead>\n",
       "    <tr style=\"text-align: right;\">\n",
       "      <th>col_0</th>\n",
       "      <th>0</th>\n",
       "      <th>1</th>\n",
       "    </tr>\n",
       "    <tr>\n",
       "      <th>row_0</th>\n",
       "      <th></th>\n",
       "      <th></th>\n",
       "    </tr>\n",
       "  </thead>\n",
       "  <tbody>\n",
       "    <tr>\n",
       "      <th>0</th>\n",
       "      <td>229</td>\n",
       "      <td>13</td>\n",
       "    </tr>\n",
       "    <tr>\n",
       "      <th>1</th>\n",
       "      <td>11</td>\n",
       "      <td>221</td>\n",
       "    </tr>\n",
       "  </tbody>\n",
       "</table>\n",
       "</div>"
      ],
      "text/plain": [
       "col_0    0    1\n",
       "row_0          \n",
       "0      229   13\n",
       "1       11  221"
      ]
     },
     "execution_count": 56,
     "metadata": {},
     "output_type": "execute_result"
    }
   ],
   "source": [
    "# get predictions\n",
    "preds, targets = learn.get_preds()\n",
    "\n",
    "predictions = np.argmax(preds, axis = 1)\n",
    "pd.crosstab(predictions, targets)"
   ]
  },
  {
   "cell_type": "code",
   "execution_count": null,
   "metadata": {},
   "outputs": [],
   "source": []
  }
 ],
 "metadata": {
  "kernelspec": {
   "display_name": "Python 3",
   "language": "python",
   "name": "python3"
  },
  "language_info": {
   "codemirror_mode": {
    "name": "ipython",
    "version": 3
   },
   "file_extension": ".py",
   "mimetype": "text/x-python",
   "name": "python",
   "nbconvert_exporter": "python",
   "pygments_lexer": "ipython3",
   "version": "3.6.4"
  }
 },
 "nbformat": 4,
 "nbformat_minor": 2
}
